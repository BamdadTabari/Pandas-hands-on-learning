{
 "cells": [
  {
   "cell_type": "markdown",
   "id": "0653d3ef",
   "metadata": {},
   "source": [
    "# Pandas crash course"
   ]
  },
  {
   "cell_type": "code",
   "execution_count": 2,
   "id": "72cc2b95",
   "metadata": {},
   "outputs": [],
   "source": [
    "import pandas as pd\n",
    "import numpy as np"
   ]
  },
  {
   "cell_type": "markdown",
   "id": "8a717c7e",
   "metadata": {},
   "source": [
    "## Series"
   ]
  },
  {
   "cell_type": "code",
   "execution_count": 3,
   "id": "87309b27",
   "metadata": {},
   "outputs": [
    {
     "name": "stdout",
     "output_type": "stream",
     "text": [
      "Series([], dtype: object)\n"
     ]
    }
   ],
   "source": [
    "#Create empty series \n",
    "\n",
    "series = pd.Series(dtype=object)\n",
    "print(series)"
   ]
  },
  {
   "cell_type": "markdown",
   "id": "894524a4",
   "metadata": {},
   "source": [
    "# what is numpy.ndarray ?\n",
    ">numpy.ndarray is a class in NumPy that represents a multidimensional, homogeneous array of fixed-size items. It is used to create arrays with specific shapes, data types, and memory layouts. An ndarray object describes the format of each element in the array, including its byte-order, size in memory, and data type (integer, floating point, etc.). Arrays should be constructed using np.array() or other array creation functions. The class provides various attributes like shape, dtype, and methods for array manipulation and indexing. Additionally, ndarray objects can share data with other arrays and can be views to memory owned by Python or buffer objects."
   ]
  },
  {
   "cell_type": "code",
   "execution_count": 5,
   "id": "b04c94f7",
   "metadata": {},
   "outputs": [
    {
     "name": "stdout",
     "output_type": "stream",
     "text": [
      "<class 'numpy.ndarray'>\n",
      "0    a\n",
      "1    b\n",
      "2    c\n",
      "3    d\n",
      "4    e\n",
      "5    f\n",
      "dtype: object\n"
     ]
    }
   ],
   "source": [
    "#Create a Series from numpy.ndarray\n",
    "\n",
    "data=np.array(['a','b','c','d','e','f'])\n",
    "print(type(data))\n",
    "value=pd.Series(data)\n",
    "print(value)"
   ]
  },
  {
   "cell_type": "code",
   "execution_count": 6,
   "id": "42cc9103",
   "metadata": {},
   "outputs": [
    {
     "name": "stdout",
     "output_type": "stream",
     "text": [
      "a    0.0\n",
      "b    1.0\n",
      "c    2.0\n",
      "dtype: float64\n"
     ]
    }
   ],
   "source": [
    "#Create a Series from dictionary\n",
    "\n",
    "data = {'a' : 0., 'b' : 1., 'c' : 2.}\n",
    "series = pd.Series(data)\n",
    "print(series)"
   ]
  },
  {
   "cell_type": "code",
   "execution_count": 8,
   "id": "82713977",
   "metadata": {},
   "outputs": [
    {
     "name": "stdout",
     "output_type": "stream",
     "text": [
      "a    1\n",
      "b    2\n",
      "c    3\n",
      "d    4\n",
      "e    5\n",
      "dtype: int64\n"
     ]
    }
   ],
   "source": [
    "# another way to create series\n",
    "series = pd.Series([1,2,3,4,5],index = ['a','b','c','d','e'])\n",
    "print(series)"
   ]
  },
  {
   "cell_type": "code",
   "execution_count": 10,
   "id": "ae6707df",
   "metadata": {},
   "outputs": [
    {
     "name": "stdout",
     "output_type": "stream",
     "text": [
      "1\n"
     ]
    }
   ],
   "source": [
    "#retrieve the first element\n",
    "print(series['a'])"
   ]
  },
  {
   "cell_type": "code",
   "execution_count": 11,
   "id": "208b1a01",
   "metadata": {},
   "outputs": [
    {
     "name": "stdout",
     "output_type": "stream",
     "text": [
      "a    1\n",
      "b    2\n",
      "c    3\n",
      "dtype: int64\n"
     ]
    }
   ],
   "source": [
    "#retrieve the first three element\n",
    "\n",
    "print(series[:3])"
   ]
  },
  {
   "cell_type": "code",
   "execution_count": 14,
   "id": "4364f793",
   "metadata": {},
   "outputs": [
    {
     "name": "stdout",
     "output_type": "stream",
     "text": [
      "c    3\n",
      "d    4\n",
      "e    5\n",
      "dtype: int64\n"
     ]
    }
   ],
   "source": [
    "#Retrieve the last three elements.\n",
    "\n",
    "print(series[-3:])"
   ]
  },
  {
   "cell_type": "markdown",
   "id": "2f687580",
   "metadata": {},
   "source": [
    "## Dataframe"
   ]
  },
  {
   "cell_type": "markdown",
   "id": "8b0900b9",
   "metadata": {},
   "source": [
    "## what is pandas.DataFrame() ?\n",
    "\n",
    ">pandas.DataFrame() is a constructor in the Pandas library used to create a two-dimensional, size-mutable, potentially heterogeneous tabular data structure known as a DataFrame. This function allows the creation of DataFrames from various data types like arrays, dictionaries, or existing DataFrames. DataFrames are structured with labeled axes for rows and columns, making them suitable for handling tabular data. The constructor takes parameters such as data, index, columns, dtype, and copy, allowing customization of the DataFrame's content and structure. Data can be passed as structured or homogeneous arrays, dictionaries, iterables, or DataFrames. The resulting DataFrame can be manipulated, indexed, and selected for analysis and data processing tasks."
   ]
  },
  {
   "cell_type": "code",
   "execution_count": 15,
   "id": "8e73292f",
   "metadata": {},
   "outputs": [
    {
     "name": "stdout",
     "output_type": "stream",
     "text": [
      "Empty DataFrame\n",
      "Columns: []\n",
      "Index: []\n"
     ]
    }
   ],
   "source": [
    "#Create an Empty DataFrame\n",
    "\n",
    "dataframe = pd.DataFrame()\n",
    "print(dataframe)"
   ]
  },
  {
   "cell_type": "code",
   "execution_count": 16,
   "id": "8b844330",
   "metadata": {},
   "outputs": [
    {
     "name": "stdout",
     "output_type": "stream",
     "text": [
      "     Name  Age\n",
      "0    Alex   10\n",
      "1     Bob   12\n",
      "2  Clarke   13\n"
     ]
    }
   ],
   "source": [
    "#Create a DataFrame from Lists\n",
    "\n",
    "data = [['Alex',10],['Bob',12],['Clarke',13]]\n",
    "dataframe = pd.DataFrame(data,columns=['Name','Age'])\n",
    "print(dataframe)"
   ]
  },
  {
   "cell_type": "code",
   "execution_count": 17,
   "id": "f7222e5c",
   "metadata": {},
   "outputs": [
    {
     "name": "stdout",
     "output_type": "stream",
     "text": [
      "    Name  Age\n",
      "0    Tom   28\n",
      "1   Jack   34\n",
      "2  Steve   29\n",
      "3  Ricky   42\n"
     ]
    }
   ],
   "source": [
    "#Create a DataFrame from Dict\n",
    "\n",
    "data = {'Name':['Tom', 'Jack', 'Steve', 'Ricky'],'Age':[28,34,29,42]}\n",
    "dataframe = pd.DataFrame(data)\n",
    "print(dataframe)"
   ]
  },
  {
   "cell_type": "code",
   "execution_count": 18,
   "id": "69a327a6",
   "metadata": {},
   "outputs": [
    {
     "name": "stdout",
     "output_type": "stream",
     "text": [
      "   one  two\n",
      "a  1.0    1\n",
      "b  2.0    2\n",
      "c  3.0    3\n",
      "d  NaN    4\n"
     ]
    }
   ],
   "source": [
    "# create dataframe from pandas series and dictionary\n",
    "data = {'one' : pd.Series([1, 2, 3], index=['a', 'b', 'c']),\n",
    "   'two' : pd.Series([1, 2, 3, 4], index=['a', 'b', 'c', 'd'])}\n",
    "\n",
    "dataframe = pd.DataFrame(data)\n",
    "print(dataframe)"
   ]
  },
  {
   "cell_type": "code",
   "execution_count": 19,
   "id": "f626f36c",
   "metadata": {},
   "outputs": [
    {
     "name": "stdout",
     "output_type": "stream",
     "text": [
      "Adding a new column by passing as Series:\n",
      "Adding a new column using the existing columns in DataFrame:\n",
      "   one  two  three  four\n",
      "a  1.0    1   10.0  11.0\n",
      "b  2.0    2   20.0  22.0\n",
      "c  3.0    3   30.0  33.0\n",
      "d  NaN    4    NaN   NaN\n"
     ]
    }
   ],
   "source": [
    "#Column Addition\n",
    "\n",
    "print (\"Adding a new column by passing as Series:\")\n",
    "dataframe['three']=pd.Series([10,20,30],index=['a','b','c'])\n",
    "print (\"Adding a new column using the existing columns in DataFrame:\")\n",
    "dataframe['four']=dataframe['one']+dataframe['three']\n",
    "\n",
    "print(dataframe)"
   ]
  },
  {
   "cell_type": "code",
   "execution_count": 20,
   "id": "d36dd723",
   "metadata": {},
   "outputs": [
    {
     "name": "stdout",
     "output_type": "stream",
     "text": [
      "Deleting the first column using DEL function:\n",
      "   two  three  four\n",
      "a    1   10.0  11.0\n",
      "b    2   20.0  22.0\n",
      "c    3   30.0  33.0\n",
      "d    4    NaN   NaN\n",
      "Deleting another column using POP function:\n",
      "   three  four\n",
      "a   10.0  11.0\n",
      "b   20.0  22.0\n",
      "c   30.0  33.0\n",
      "d    NaN   NaN\n"
     ]
    }
   ],
   "source": [
    "#Column Deletion\n",
    "\n",
    "# using del function\n",
    "print (\"Deleting the first column using DEL function:\")\n",
    "del dataframe['one']\n",
    "print(dataframe)\n",
    "\n",
    "# using pop function\n",
    "print (\"Deleting another column using POP function:\")\n",
    "dataframe.pop('two')\n",
    "print(dataframe)"
   ]
  },
  {
   "cell_type": "code",
   "execution_count": 21,
   "id": "bd849ae0",
   "metadata": {},
   "outputs": [
    {
     "ename": "TypeError",
     "evalue": "DataFrame.pop() missing 1 required positional argument: 'item'",
     "output_type": "error",
     "traceback": [
      "\u001b[1;31m---------------------------------------------------------------------------\u001b[0m",
      "\u001b[1;31mTypeError\u001b[0m                                 Traceback (most recent call last)",
      "Cell \u001b[1;32mIn[21], line 2\u001b[0m\n\u001b[0;32m      1\u001b[0m \u001b[38;5;66;03m# try pop with out args will delete the last column\u001b[39;00m\n\u001b[1;32m----> 2\u001b[0m \u001b[43mdataframe\u001b[49m\u001b[38;5;241;43m.\u001b[39;49m\u001b[43mpop\u001b[49m\u001b[43m(\u001b[49m\u001b[43m)\u001b[49m\n",
      "\u001b[1;31mTypeError\u001b[0m: DataFrame.pop() missing 1 required positional argument: 'item'"
     ]
    }
   ],
   "source": [
    "# try pop with out args will raise error\n",
    "dataframe.pop()"
   ]
  },
  {
   "cell_type": "code",
   "execution_count": 22,
   "id": "0f51eec5",
   "metadata": {},
   "outputs": [
    {
     "name": "stdout",
     "output_type": "stream",
     "text": [
      "0   -1.326858\n",
      "1   -0.640700\n",
      "2    1.351736\n",
      "3    0.060330\n",
      "dtype: float64\n"
     ]
    }
   ],
   "source": [
    "#Create a series with 4 random numbers\n",
    "series = pd.Series(np.random.randn(4))\n",
    "print(series)"
   ]
  },
  {
   "cell_type": "code",
   "execution_count": 23,
   "id": "4d9f940b",
   "metadata": {},
   "outputs": [
    {
     "name": "stdout",
     "output_type": "stream",
     "text": [
      "Is the Object empty?\n",
      "False\n"
     ]
    }
   ],
   "source": [
    "#Empty function\n",
    "\n",
    "series = pd.Series(np.random.randn(4))\n",
    "print (\"Is the Object empty?\")\n",
    "print(series.empty) # this will check the series if it is empty or not"
   ]
  },
  {
   "cell_type": "code",
   "execution_count": 24,
   "id": "0549a415",
   "metadata": {},
   "outputs": [
    {
     "name": "stdout",
     "output_type": "stream",
     "text": [
      "The dimensions of the object:\n",
      "1\n"
     ]
    }
   ],
   "source": [
    "#ndim function to check dimension \n",
    "\n",
    "print (\"The dimensions of the object:\")\n",
    "print (series.ndim)"
   ]
  },
  {
   "cell_type": "code",
   "execution_count": 25,
   "id": "c430580b",
   "metadata": {},
   "outputs": [
    {
     "name": "stdout",
     "output_type": "stream",
     "text": [
      "[ 2.01319696 -0.64180942  0.8689707  -0.28843509]\n"
     ]
    }
   ],
   "source": [
    "#Values function to check values\n",
    "\n",
    "print(series.values)\n"
   ]
  },
  {
   "cell_type": "code",
   "execution_count": 26,
   "id": "dd7d705b",
   "metadata": {},
   "outputs": [
    {
     "data": {
      "text/plain": [
       "0    2.013197\n",
       "1   -0.641809\n",
       "2    0.868971\n",
       "3   -0.288435\n",
       "dtype: float64"
      ]
     },
     "execution_count": 26,
     "metadata": {},
     "output_type": "execute_result"
    }
   ],
   "source": [
    "# Head function to check first 5 rows\n",
    "series.head()"
   ]
  },
  {
   "cell_type": "code",
   "execution_count": 27,
   "id": "da4e53c0",
   "metadata": {},
   "outputs": [
    {
     "data": {
      "text/plain": [
       "0    2.013197\n",
       "1   -0.641809\n",
       "2    0.868971\n",
       "3   -0.288435\n",
       "dtype: float64"
      ]
     },
     "execution_count": 27,
     "metadata": {},
     "output_type": "execute_result"
    }
   ],
   "source": [
    "#Tail function to check last 5 rows\n",
    "series.tail()"
   ]
  },
  {
   "cell_type": "code",
   "execution_count": 29,
   "id": "6d567c2f",
   "metadata": {},
   "outputs": [
    {
     "name": "stdout",
     "output_type": "stream",
     "text": [
      "(7, 3)\n"
     ]
    }
   ],
   "source": [
    "#shape function to check no. of rows and columns\n",
    "\n",
    "data = {'Name':pd.Series(['Tom','James','Ricky','Vin','Steve','Smith','Jack']),\n",
    "   'Age':pd.Series([25,26,25,23,30,29,23]),\n",
    "   'Rating':pd.Series([4.23,3.24,3.98,2.56,3.20,4.6,3.8])}\n",
    " \n",
    "#Create a DataFrame\n",
    "dataframe = pd.DataFrame(data)\n",
    "print (dataframe.shape)"
   ]
  },
  {
   "cell_type": "markdown",
   "id": "55a984d3",
   "metadata": {},
   "source": [
    "## Descriptive statistics"
   ]
  },
  {
   "cell_type": "code",
   "execution_count": 32,
   "id": "27573dec",
   "metadata": {},
   "outputs": [
    {
     "data": {
      "text/html": [
       "<div>\n",
       "<style scoped>\n",
       "    .dataframe tbody tr th:only-of-type {\n",
       "        vertical-align: middle;\n",
       "    }\n",
       "\n",
       "    .dataframe tbody tr th {\n",
       "        vertical-align: top;\n",
       "    }\n",
       "\n",
       "    .dataframe thead th {\n",
       "        text-align: right;\n",
       "    }\n",
       "</style>\n",
       "<table border=\"1\" class=\"dataframe\">\n",
       "  <thead>\n",
       "    <tr style=\"text-align: right;\">\n",
       "      <th></th>\n",
       "      <th>Age</th>\n",
       "      <th>Rating</th>\n",
       "    </tr>\n",
       "  </thead>\n",
       "  <tbody>\n",
       "    <tr>\n",
       "      <th>count</th>\n",
       "      <td>7.000000</td>\n",
       "      <td>7.000000</td>\n",
       "    </tr>\n",
       "    <tr>\n",
       "      <th>mean</th>\n",
       "      <td>25.857143</td>\n",
       "      <td>3.658571</td>\n",
       "    </tr>\n",
       "    <tr>\n",
       "      <th>std</th>\n",
       "      <td>2.734262</td>\n",
       "      <td>0.698628</td>\n",
       "    </tr>\n",
       "    <tr>\n",
       "      <th>min</th>\n",
       "      <td>23.000000</td>\n",
       "      <td>2.560000</td>\n",
       "    </tr>\n",
       "    <tr>\n",
       "      <th>25%</th>\n",
       "      <td>24.000000</td>\n",
       "      <td>3.220000</td>\n",
       "    </tr>\n",
       "    <tr>\n",
       "      <th>50%</th>\n",
       "      <td>25.000000</td>\n",
       "      <td>3.800000</td>\n",
       "    </tr>\n",
       "    <tr>\n",
       "      <th>75%</th>\n",
       "      <td>27.500000</td>\n",
       "      <td>4.105000</td>\n",
       "    </tr>\n",
       "    <tr>\n",
       "      <th>max</th>\n",
       "      <td>30.000000</td>\n",
       "      <td>4.600000</td>\n",
       "    </tr>\n",
       "  </tbody>\n",
       "</table>\n",
       "</div>"
      ],
      "text/plain": [
       "             Age    Rating\n",
       "count   7.000000  7.000000\n",
       "mean   25.857143  3.658571\n",
       "std     2.734262  0.698628\n",
       "min    23.000000  2.560000\n",
       "25%    24.000000  3.220000\n",
       "50%    25.000000  3.800000\n",
       "75%    27.500000  4.105000\n",
       "max    30.000000  4.600000"
      ]
     },
     "execution_count": 32,
     "metadata": {},
     "output_type": "execute_result"
    }
   ],
   "source": [
    "#describe is used for showing various statistical measure of data\n",
    "\n",
    "dataframe.describe()"
   ]
  },
  {
   "cell_type": "markdown",
   "id": "8cc2482b",
   "metadata": {},
   "source": [
    "## Sorting"
   ]
  },
  {
   "cell_type": "code",
   "execution_count": 33,
   "id": "6c844a20",
   "metadata": {},
   "outputs": [
    {
     "name": "stdout",
     "output_type": "stream",
     "text": [
      "       col2      col1\n",
      "1 -0.881990 -0.661228\n",
      "4 -0.070583  0.098800\n",
      "6  0.732854  0.595594\n",
      "2  0.850449  1.643830\n",
      "3 -0.141120  0.191303\n",
      "5  1.189564  1.842073\n",
      "9  0.257514  1.367178\n",
      "8  0.221644 -1.218830\n",
      "0 -0.236455 -0.332039\n",
      "7 -1.091971  1.895029\n",
      "       col2      col1\n",
      "0 -0.236455 -0.332039\n",
      "1 -0.881990 -0.661228\n",
      "2  0.850449  1.643830\n",
      "3 -0.141120  0.191303\n",
      "4 -0.070583  0.098800\n",
      "5  1.189564  1.842073\n",
      "6  0.732854  0.595594\n",
      "7 -1.091971  1.895029\n",
      "8  0.221644 -1.218830\n",
      "9  0.257514  1.367178\n"
     ]
    }
   ],
   "source": [
    "#Sorting in ascending order\n",
    "\n",
    "unsorted_dataframe = pd.DataFrame(\n",
    "    np.random.randn(10,2),index=[1,4,6,2,3,5,9,8,0,7],columns = ['col2','col1'])\n",
    "print(unsorted_dataframe)\n",
    "sorted_dataframe = unsorted_dataframe.sort_index(ascending=True)\n",
    "print (sorted_dataframe)"
   ]
  },
  {
   "cell_type": "code",
   "execution_count": 48,
   "id": "92491fdc",
   "metadata": {},
   "outputs": [
    {
     "name": "stdout",
     "output_type": "stream",
     "text": [
      "       col2      col1\n",
      "9  0.863291 -0.893348\n",
      "8 -1.896168 -0.796378\n",
      "7 -0.704158 -1.600047\n",
      "6  0.190985 -1.307548\n",
      "5  0.199504 -0.542366\n",
      "4  2.160746  1.079632\n",
      "3 -0.705570 -1.588464\n",
      "2 -1.714371  0.612541\n",
      "1  1.101104  0.708626\n",
      "0  1.084334 -1.111056\n"
     ]
    }
   ],
   "source": [
    "#Sorting in descending order\n",
    "\n",
    "unsorted_dataframe = pd.DataFrame(np.random.randn(10,2),index=[1,4,6,2,3,5,9,8,0,7],columns = ['col2','col1'])\n",
    "\n",
    "sorted_dataframe = unsorted_dataframe.sort_index(ascending=False)\n",
    "print(sorted_dataframe)"
   ]
  },
  {
   "cell_type": "markdown",
   "id": "26e38e38",
   "metadata": {},
   "source": [
    "## Missing data"
   ]
  },
  {
   "cell_type": "code",
   "execution_count": 38,
   "id": "63a0b030",
   "metadata": {},
   "outputs": [
    {
     "name": "stdout",
     "output_type": "stream",
     "text": [
      "\n",
      "dataframe before reindex: \n",
      "\n",
      "        one       two     three\n",
      "a -0.325602 -1.224648 -0.634916\n",
      "c -0.154372 -0.990859 -0.658320\n",
      "e -0.074425  0.719899  0.879008\n",
      "f  0.512683  1.995813 -1.262337\n",
      "h  0.360913  0.369843 -1.315752\n",
      "\n",
      "dataframe after reindex: \n",
      "\n",
      "        one       two     three\n",
      "a -0.325602 -1.224648 -0.634916\n",
      "b       NaN       NaN       NaN\n",
      "c -0.154372 -0.990859 -0.658320\n",
      "d       NaN       NaN       NaN\n",
      "e -0.074425  0.719899  0.879008\n",
      "f  0.512683  1.995813 -1.262337\n",
      "g       NaN       NaN       NaN\n",
      "h  0.360913  0.369843 -1.315752\n",
      "\n",
      "dataframe after reindex sum: \n",
      "\n",
      "one      3\n",
      "two      3\n",
      "three    3\n",
      "dtype: int64\n"
     ]
    }
   ],
   "source": [
    "#Check total missing data \n",
    " \n",
    "dataframe = pd.DataFrame(data=np.random.randn(5, 3), \n",
    "                         index=['a', 'c', 'e', 'f','h'],\n",
    "                         columns=['one', 'two', 'three'])\n",
    "print(\"\\ndataframe before reindex: \\n\")\n",
    "print(dataframe)\n",
    "dataframe = dataframe.reindex(['a', 'b', 'c', 'd', 'e', 'f', 'g', 'h'])\n",
    "print(\"\\ndataframe after reindex: \\n\")\n",
    "print(dataframe)\n",
    "print(\"\\ndataframe after reindex sum: \\n\")\n",
    "print(dataframe.isnull().sum())\n",
    "#NOTE: \"isnull()\" function will remove all NAN values from our dataframe *permanently*"
   ]
  },
  {
   "cell_type": "code",
   "execution_count": 39,
   "id": "e326907b",
   "metadata": {},
   "outputs": [
    {
     "data": {
      "text/html": [
       "<div>\n",
       "<style scoped>\n",
       "    .dataframe tbody tr th:only-of-type {\n",
       "        vertical-align: middle;\n",
       "    }\n",
       "\n",
       "    .dataframe tbody tr th {\n",
       "        vertical-align: top;\n",
       "    }\n",
       "\n",
       "    .dataframe thead th {\n",
       "        text-align: right;\n",
       "    }\n",
       "</style>\n",
       "<table border=\"1\" class=\"dataframe\">\n",
       "  <thead>\n",
       "    <tr style=\"text-align: right;\">\n",
       "      <th></th>\n",
       "      <th>one</th>\n",
       "      <th>two</th>\n",
       "      <th>three</th>\n",
       "    </tr>\n",
       "  </thead>\n",
       "  <tbody>\n",
       "    <tr>\n",
       "      <th>a</th>\n",
       "      <td>-0.325602</td>\n",
       "      <td>-1.224648</td>\n",
       "      <td>-0.634916</td>\n",
       "    </tr>\n",
       "    <tr>\n",
       "      <th>b</th>\n",
       "      <td>NaN</td>\n",
       "      <td>NaN</td>\n",
       "      <td>NaN</td>\n",
       "    </tr>\n",
       "    <tr>\n",
       "      <th>c</th>\n",
       "      <td>-0.154372</td>\n",
       "      <td>-0.990859</td>\n",
       "      <td>-0.658320</td>\n",
       "    </tr>\n",
       "    <tr>\n",
       "      <th>d</th>\n",
       "      <td>NaN</td>\n",
       "      <td>NaN</td>\n",
       "      <td>NaN</td>\n",
       "    </tr>\n",
       "    <tr>\n",
       "      <th>e</th>\n",
       "      <td>-0.074425</td>\n",
       "      <td>0.719899</td>\n",
       "      <td>0.879008</td>\n",
       "    </tr>\n",
       "    <tr>\n",
       "      <th>f</th>\n",
       "      <td>0.512683</td>\n",
       "      <td>1.995813</td>\n",
       "      <td>-1.262337</td>\n",
       "    </tr>\n",
       "    <tr>\n",
       "      <th>g</th>\n",
       "      <td>NaN</td>\n",
       "      <td>NaN</td>\n",
       "      <td>NaN</td>\n",
       "    </tr>\n",
       "    <tr>\n",
       "      <th>h</th>\n",
       "      <td>0.360913</td>\n",
       "      <td>0.369843</td>\n",
       "      <td>-1.315752</td>\n",
       "    </tr>\n",
       "  </tbody>\n",
       "</table>\n",
       "</div>"
      ],
      "text/plain": [
       "        one       two     three\n",
       "a -0.325602 -1.224648 -0.634916\n",
       "b       NaN       NaN       NaN\n",
       "c -0.154372 -0.990859 -0.658320\n",
       "d       NaN       NaN       NaN\n",
       "e -0.074425  0.719899  0.879008\n",
       "f  0.512683  1.995813 -1.262337\n",
       "g       NaN       NaN       NaN\n",
       "h  0.360913  0.369843 -1.315752"
      ]
     },
     "execution_count": 39,
     "metadata": {},
     "output_type": "execute_result"
    }
   ],
   "source": [
    "dataframe"
   ]
  },
  {
   "cell_type": "code",
   "execution_count": 40,
   "id": "03ee4168",
   "metadata": {},
   "outputs": [
    {
     "data": {
      "text/html": [
       "<div>\n",
       "<style scoped>\n",
       "    .dataframe tbody tr th:only-of-type {\n",
       "        vertical-align: middle;\n",
       "    }\n",
       "\n",
       "    .dataframe tbody tr th {\n",
       "        vertical-align: top;\n",
       "    }\n",
       "\n",
       "    .dataframe thead th {\n",
       "        text-align: right;\n",
       "    }\n",
       "</style>\n",
       "<table border=\"1\" class=\"dataframe\">\n",
       "  <thead>\n",
       "    <tr style=\"text-align: right;\">\n",
       "      <th></th>\n",
       "      <th>one</th>\n",
       "      <th>two</th>\n",
       "      <th>three</th>\n",
       "    </tr>\n",
       "  </thead>\n",
       "  <tbody>\n",
       "    <tr>\n",
       "      <th>a</th>\n",
       "      <td>-0.325602</td>\n",
       "      <td>-1.224648</td>\n",
       "      <td>-0.634916</td>\n",
       "    </tr>\n",
       "    <tr>\n",
       "      <th>c</th>\n",
       "      <td>-0.154372</td>\n",
       "      <td>-0.990859</td>\n",
       "      <td>-0.658320</td>\n",
       "    </tr>\n",
       "    <tr>\n",
       "      <th>e</th>\n",
       "      <td>-0.074425</td>\n",
       "      <td>0.719899</td>\n",
       "      <td>0.879008</td>\n",
       "    </tr>\n",
       "    <tr>\n",
       "      <th>f</th>\n",
       "      <td>0.512683</td>\n",
       "      <td>1.995813</td>\n",
       "      <td>-1.262337</td>\n",
       "    </tr>\n",
       "    <tr>\n",
       "      <th>h</th>\n",
       "      <td>0.360913</td>\n",
       "      <td>0.369843</td>\n",
       "      <td>-1.315752</td>\n",
       "    </tr>\n",
       "  </tbody>\n",
       "</table>\n",
       "</div>"
      ],
      "text/plain": [
       "        one       two     three\n",
       "a -0.325602 -1.224648 -0.634916\n",
       "c -0.154372 -0.990859 -0.658320\n",
       "e -0.074425  0.719899  0.879008\n",
       "f  0.512683  1.995813 -1.262337\n",
       "h  0.360913  0.369843 -1.315752"
      ]
     },
     "execution_count": 40,
     "metadata": {},
     "output_type": "execute_result"
    }
   ],
   "source": [
    "#Dropping null values\n",
    "dataframe.dropna()"
   ]
  },
  {
   "cell_type": "code",
   "execution_count": 42,
   "id": "743a0d66",
   "metadata": {},
   "outputs": [
    {
     "data": {
      "text/html": [
       "<div>\n",
       "<style scoped>\n",
       "    .dataframe tbody tr th:only-of-type {\n",
       "        vertical-align: middle;\n",
       "    }\n",
       "\n",
       "    .dataframe tbody tr th {\n",
       "        vertical-align: top;\n",
       "    }\n",
       "\n",
       "    .dataframe thead th {\n",
       "        text-align: right;\n",
       "    }\n",
       "</style>\n",
       "<table border=\"1\" class=\"dataframe\">\n",
       "  <thead>\n",
       "    <tr style=\"text-align: right;\">\n",
       "      <th></th>\n",
       "      <th>one</th>\n",
       "      <th>two</th>\n",
       "      <th>three</th>\n",
       "    </tr>\n",
       "  </thead>\n",
       "  <tbody>\n",
       "    <tr>\n",
       "      <th>a</th>\n",
       "      <td>-0.325602</td>\n",
       "      <td>-1.224648</td>\n",
       "      <td>-0.634916</td>\n",
       "    </tr>\n",
       "    <tr>\n",
       "      <th>b</th>\n",
       "      <td>1.000000</td>\n",
       "      <td>1.000000</td>\n",
       "      <td>1.000000</td>\n",
       "    </tr>\n",
       "    <tr>\n",
       "      <th>c</th>\n",
       "      <td>-0.154372</td>\n",
       "      <td>-0.990859</td>\n",
       "      <td>-0.658320</td>\n",
       "    </tr>\n",
       "    <tr>\n",
       "      <th>d</th>\n",
       "      <td>1.000000</td>\n",
       "      <td>1.000000</td>\n",
       "      <td>1.000000</td>\n",
       "    </tr>\n",
       "    <tr>\n",
       "      <th>e</th>\n",
       "      <td>-0.074425</td>\n",
       "      <td>0.719899</td>\n",
       "      <td>0.879008</td>\n",
       "    </tr>\n",
       "    <tr>\n",
       "      <th>f</th>\n",
       "      <td>0.512683</td>\n",
       "      <td>1.995813</td>\n",
       "      <td>-1.262337</td>\n",
       "    </tr>\n",
       "    <tr>\n",
       "      <th>g</th>\n",
       "      <td>1.000000</td>\n",
       "      <td>1.000000</td>\n",
       "      <td>1.000000</td>\n",
       "    </tr>\n",
       "    <tr>\n",
       "      <th>h</th>\n",
       "      <td>0.360913</td>\n",
       "      <td>0.369843</td>\n",
       "      <td>-1.315752</td>\n",
       "    </tr>\n",
       "  </tbody>\n",
       "</table>\n",
       "</div>"
      ],
      "text/plain": [
       "        one       two     three\n",
       "a -0.325602 -1.224648 -0.634916\n",
       "b  1.000000  1.000000  1.000000\n",
       "c -0.154372 -0.990859 -0.658320\n",
       "d  1.000000  1.000000  1.000000\n",
       "e -0.074425  0.719899  0.879008\n",
       "f  0.512683  1.995813 -1.262337\n",
       "g  1.000000  1.000000  1.000000\n",
       "h  0.360913  0.369843 -1.315752"
      ]
     },
     "execution_count": 42,
     "metadata": {},
     "output_type": "execute_result"
    }
   ],
   "source": [
    "#Fill missing values with 1\n",
    "dataframe.fillna(1)"
   ]
  },
  {
   "cell_type": "markdown",
   "id": "1e0528d3",
   "metadata": {},
   "source": [
    "## Groupby"
   ]
  },
  {
   "cell_type": "code",
   "execution_count": 43,
   "id": "ce1911f3",
   "metadata": {},
   "outputs": [
    {
     "name": "stdout",
     "output_type": "stream",
     "text": [
      "{'Devils': [2, 3], 'Kings': [4, 6, 7], 'Riders': [0, 1, 8, 11], 'Royals': [9, 10], 'kings': [5]}\n"
     ]
    }
   ],
   "source": [
    "ipl_data = {'Team': ['Riders', 'Riders', 'Devils', 'Devils', 'Kings',\n",
    "   'kings', 'Kings', 'Kings', 'Riders', 'Royals', 'Royals', 'Riders'],\n",
    "   'Rank': [1, 2, 2, 3, 3,4 ,1 ,1,2 , 4,1,2],\n",
    "   'Year': [2014,2015,2014,2015,2014,2015,2016,2017,2016,2014,2015,2017],\n",
    "   'Points':[876,789,863,673,741,812,756,788,694,701,804,690]}\n",
    "dataframe = pd.DataFrame(ipl_data)\n",
    "\n",
    "print(dataframe.groupby('Team').groups)"
   ]
  },
  {
   "cell_type": "code",
   "execution_count": 44,
   "id": "0340b3c0",
   "metadata": {},
   "outputs": [
    {
     "name": "stdout",
     "output_type": "stream",
     "text": [
      "{('Devils', 2014): [2], ('Devils', 2015): [3], ('Kings', 2014): [4], ('Kings', 2016): [6], ('Kings', 2017): [7], ('Riders', 2014): [0], ('Riders', 2015): [1], ('Riders', 2016): [8], ('Riders', 2017): [11], ('Royals', 2014): [9], ('Royals', 2015): [10], ('kings', 2015): [5]}\n"
     ]
    }
   ],
   "source": [
    "ipl_data = {'Team': ['Riders', 'Riders', 'Devils', 'Devils', 'Kings',\n",
    "   'kings', 'Kings', 'Kings', 'Riders', 'Royals', 'Royals', 'Riders'],\n",
    "   'Rank': [1, 2, 2, 3, 3,4 ,1 ,1,2 , 4,1,2],\n",
    "   'Year': [2014,2015,2014,2015,2014,2015,2016,2017,2016,2014,2015,2017],\n",
    "   'Points':[876,789,863,673,741,812,756,788,694,701,804,690]}\n",
    "dataframe = pd.DataFrame(ipl_data)\n",
    "\n",
    "print(dataframe.groupby(['Team','Year']).groups)"
   ]
  },
  {
   "cell_type": "markdown",
   "id": "4af64b54",
   "metadata": {},
   "source": [
    "## Merging/Joining"
   ]
  },
  {
   "cell_type": "code",
   "execution_count": 45,
   "id": "3ce5f63f",
   "metadata": {},
   "outputs": [
    {
     "name": "stdout",
     "output_type": "stream",
     "text": [
      "   id  Name_x subject_id_x Name_y subject_id_y\n",
      "0   1    Alex         sub1  Billy         sub2\n",
      "1   2     Amy         sub2  Brian         sub4\n",
      "2   3   Allen         sub4   Bran         sub3\n",
      "3   4   Alice         sub6  Bryce         sub6\n",
      "4   5  Ayoung         sub5  Betty         sub5\n"
     ]
    }
   ],
   "source": [
    "#Merge two dataframe on single key\n",
    "left = pd.DataFrame({\n",
    "   'id':[1,2,3,4,5],\n",
    "   'Name': ['Alex', 'Amy', 'Allen', 'Alice', 'Ayoung'],\n",
    "   'subject_id':['sub1','sub2','sub4','sub6','sub5']})\n",
    "right = pd.DataFrame({\n",
    "\t'id':[1,2,3,4,5],\n",
    "   'Name': ['Billy', 'Brian', 'Bran', 'Bryce', 'Betty'],\n",
    "   'subject_id':['sub2','sub4','sub3','sub6','sub5']})\n",
    "print(pd.merge(left,right,on='id'))"
   ]
  },
  {
   "cell_type": "code",
   "execution_count": 46,
   "id": "485b2488",
   "metadata": {},
   "outputs": [
    {
     "name": "stdout",
     "output_type": "stream",
     "text": [
      "   id_x  Name_x subject_id  id_y Name_y\n",
      "0     1    Alex       sub1   NaN    NaN\n",
      "1     2     Amy       sub2   1.0  Billy\n",
      "2     3   Allen       sub4   2.0  Brian\n",
      "3     4   Alice       sub6   4.0  Bryce\n",
      "4     5  Ayoung       sub5   5.0  Betty\n"
     ]
    }
   ],
   "source": [
    "#Left join \n",
    "\n",
    "left = pd.DataFrame({\n",
    "   'id':[1,2,3,4,5],\n",
    "   'Name': ['Alex', 'Amy', 'Allen', 'Alice', 'Ayoung'],\n",
    "   'subject_id':['sub1','sub2','sub4','sub6','sub5']})\n",
    "right = pd.DataFrame({\n",
    "   'id':[1,2,3,4,5],\n",
    "   'Name': ['Billy', 'Brian', 'Bran', 'Bryce', 'Betty'],\n",
    "   'subject_id':['sub2','sub4','sub3','sub6','sub5']})\n",
    "print(pd.merge(left, right, on='subject_id', how='left'))"
   ]
  },
  {
   "cell_type": "code",
   "execution_count": 47,
   "id": "fc02f83f",
   "metadata": {},
   "outputs": [
    {
     "name": "stdout",
     "output_type": "stream",
     "text": [
      "   id_x  Name_x subject_id  id_y Name_y\n",
      "0   2.0     Amy       sub2     1  Billy\n",
      "1   3.0   Allen       sub4     2  Brian\n",
      "2   NaN     NaN       sub3     3   Bran\n",
      "3   4.0   Alice       sub6     4  Bryce\n",
      "4   5.0  Ayoung       sub5     5  Betty\n"
     ]
    }
   ],
   "source": [
    "#Right join \n",
    "\n",
    "left = pd.DataFrame({\n",
    "   'id':[1,2,3,4,5],\n",
    "   'Name': ['Alex', 'Amy', 'Allen', 'Alice', 'Ayoung'],\n",
    "   'subject_id':['sub1','sub2','sub4','sub6','sub5']})\n",
    "right = pd.DataFrame({\n",
    "   'id':[1,2,3,4,5],\n",
    "   'Name': ['Billy', 'Brian', 'Bran', 'Bryce', 'Betty'],\n",
    "   'subject_id':['sub2','sub4','sub3','sub6','sub5']})\n",
    "print(pd.merge(left, right, on='subject_id', how='right'))"
   ]
  },
  {
   "cell_type": "markdown",
   "id": "cc8372ec",
   "metadata": {},
   "source": [
    "## Concatenation"
   ]
  },
  {
   "cell_type": "code",
   "execution_count": 48,
   "id": "e2d6fb47",
   "metadata": {},
   "outputs": [
    {
     "name": "stdout",
     "output_type": "stream",
     "text": [
      "     Name subject_id  Marks_scored\n",
      "1    Alex       sub1            98\n",
      "2     Amy       sub2            90\n",
      "3   Allen       sub4            87\n",
      "4   Alice       sub6            69\n",
      "5  Ayoung       sub5            78\n",
      "1   Billy       sub2            89\n",
      "2   Brian       sub4            80\n",
      "3    Bran       sub3            79\n",
      "4   Bryce       sub6            97\n",
      "5   Betty       sub5            88\n"
     ]
    }
   ],
   "source": [
    "one = pd.DataFrame({\n",
    "   'Name': ['Alex', 'Amy', 'Allen', 'Alice', 'Ayoung'],\n",
    "   'subject_id':['sub1','sub2','sub4','sub6','sub5'],\n",
    "   'Marks_scored':[98,90,87,69,78]},\n",
    "   index=[1,2,3,4,5])\n",
    "\n",
    "two = pd.DataFrame({\n",
    "   'Name': ['Billy', 'Brian', 'Bran', 'Bryce', 'Betty'],\n",
    "   'subject_id':['sub2','sub4','sub3','sub6','sub5'],\n",
    "   'Marks_scored':[89,80,79,97,88]},\n",
    "   index=[1,2,3,4,5])\n",
    "print(pd.concat([one,two]))"
   ]
  },
  {
   "cell_type": "code",
   "execution_count": 49,
   "id": "30a5c10b",
   "metadata": {},
   "outputs": [
    {
     "name": "stdout",
     "output_type": "stream",
     "text": [
      "     Name subject_id  Marks_scored\n",
      "0    Alex       sub1            98\n",
      "1     Amy       sub2            90\n",
      "2   Allen       sub4            87\n",
      "3   Alice       sub6            69\n",
      "4  Ayoung       sub5            78\n",
      "5   Billy       sub2            89\n",
      "6   Brian       sub4            80\n",
      "7    Bran       sub3            79\n",
      "8   Bryce       sub6            97\n",
      "9   Betty       sub5            88\n"
     ]
    }
   ],
   "source": [
    "#To ignore indexing \n",
    "\n",
    "one = pd.DataFrame({\n",
    "   'Name': ['Alex', 'Amy', 'Allen', 'Alice', 'Ayoung'],\n",
    "   'subject_id':['sub1','sub2','sub4','sub6','sub5'],\n",
    "   'Marks_scored':[98,90,87,69,78]},\n",
    "   index=[1,2,3,4,5])\n",
    "\n",
    "two = pd.DataFrame({\n",
    "   'Name': ['Billy', 'Brian', 'Bran', 'Bryce', 'Betty'],\n",
    "   'subject_id':['sub2','sub4','sub3','sub6','sub5'],\n",
    "   'Marks_scored':[89,80,79,97,88]},\n",
    "   index=[1,2,3,4,5])\n",
    "print(pd.concat([one,two],keys=['x','y'],ignore_index=True))"
   ]
  },
  {
   "cell_type": "markdown",
   "id": "50c0a603",
   "metadata": {},
   "source": [
    "## Date functionality"
   ]
  },
  {
   "cell_type": "code",
   "execution_count": 50,
   "id": "754dca54",
   "metadata": {},
   "outputs": [
    {
     "name": "stdout",
     "output_type": "stream",
     "text": [
      "DatetimeIndex(['2022-01-01', '2022-01-02', '2022-01-03', '2022-01-04',\n",
      "               '2022-01-05'],\n",
      "              dtype='datetime64[ns]', freq='D')\n"
     ]
    }
   ],
   "source": [
    "print(pd.date_range('1/1/2022', periods=5))"
   ]
  },
  {
   "cell_type": "code",
   "execution_count": 53,
   "id": "cdc819eb",
   "metadata": {},
   "outputs": [
    {
     "name": "stdout",
     "output_type": "stream",
     "text": [
      "DatetimeIndex(['2022-01-01', '2022-01-02', '2022-01-03', '2022-01-04',\n",
      "               '2022-01-05', '2022-01-06', '2022-01-07', '2022-01-08',\n",
      "               '2022-01-09', '2022-01-10',\n",
      "               ...\n",
      "               '2022-04-22', '2022-04-23', '2022-04-24', '2022-04-25',\n",
      "               '2022-04-26', '2022-04-27', '2022-04-28', '2022-04-29',\n",
      "               '2022-04-30', '2022-05-01'],\n",
      "              dtype='datetime64[ns]', length=121, freq='D')\n"
     ]
    }
   ],
   "source": [
    "start = '1/1/2022' # format MM/DD/YY\n",
    "end = '5/1/2022'\n",
    "print(pd.date_range(start, end))"
   ]
  },
  {
   "cell_type": "markdown",
   "id": "8098108d",
   "metadata": {},
   "source": [
    "## Visualization"
   ]
  },
  {
   "cell_type": "code",
   "execution_count": 58,
   "id": "ec6c0d3f",
   "metadata": {},
   "outputs": [
    {
     "data": {
      "text/plain": [
       "<Axes: >"
      ]
     },
     "execution_count": 58,
     "metadata": {},
     "output_type": "execute_result"
    },
    {
     "data": {
      "image/png": "[encoded data removed]",
      "text/plain": [
       "<Figure size 640x480 with 1 Axes>"
      ]
     },
     "metadata": {},
     "output_type": "display_data"
    }
   ],
   "source": [
    "dataframe = pd.DataFrame(data=np.random.randn(10,4),index=pd.date_range('1/1/2015',\n",
    "   periods=10), columns=list('ABCD'))\n",
    "\n",
    "dataframe.plot()"
   ]
  },
  {
   "cell_type": "code",
   "execution_count": 59,
   "id": "45dbd9a2",
   "metadata": {},
   "outputs": [
    {
     "data": {
      "text/plain": [
       "<Axes: >"
      ]
     },
     "execution_count": 59,
     "metadata": {},
     "output_type": "execute_result"
    },
    {
     "data": {
      "image/png": "[encoded data removed]",
      "text/plain": [
       "<Figure size 640x480 with 1 Axes>"
      ]
     },
     "metadata": {},
     "output_type": "display_data"
    }
   ],
   "source": [
    "#Bar Plot\n",
    "\n",
    "dataframe = pd.DataFrame(data=np.random.rand(5,5),columns=['a','b','c','d','e'])\n",
    "dataframe.plot.bar()"
   ]
  },
  {
   "cell_type": "code",
   "execution_count": 60,
   "id": "d9b05b56",
   "metadata": {},
   "outputs": [
    {
     "data": {
      "text/plain": [
       "<Axes: >"
      ]
     },
     "execution_count": 60,
     "metadata": {},
     "output_type": "execute_result"
    },
    {
     "data": {
      "image/png": "[encoded data removed]",
      "text/plain": [
       "<Figure size 640x480 with 1 Axes>"
      ]
     },
     "metadata": {},
     "output_type": "display_data"
    }
   ],
   "source": [
    "#To get horizontal bar plots\n",
    "\n",
    "dataframe = pd.DataFrame(np.random.rand(10,4),columns=['a','b','c','d'])\n",
    "\n",
    "dataframe.plot.barh(stacked=True)"
   ]
  },
  {
   "cell_type": "code",
   "execution_count": 80,
   "id": "f5272585",
   "metadata": {},
   "outputs": [
    {
     "data": {
      "text/plain": [
       "<AxesSubplot:ylabel='Frequency'>"
      ]
     },
     "execution_count": 80,
     "metadata": {},
     "output_type": "execute_result"
    },
    {
     "data": {
      "image/png": "[encoded data removed]",
      "text/plain": [
       "<Figure size 432x288 with 1 Axes>"
      ]
     },
     "metadata": {
      "needs_background": "light"
     },
     "output_type": "display_data"
    }
   ],
   "source": [
    "#Histogram\n",
    "\n",
    "dataframe = pd.DataFrame({'a':np.random.randn(1000)+1,'b':np.random.randn(1000),'c':\n",
    "np.random.randn(1000) - 1}, columns=['a', 'b', 'c'])\n",
    "\n",
    "dataframe.plot.hist(bins=20)"
   ]
  },
  {
   "cell_type": "code",
   "execution_count": 81,
   "id": "0b5c7be3",
   "metadata": {},
   "outputs": [
    {
     "data": {
      "text/plain": [
       "<AxesSubplot:>"
      ]
     },
     "execution_count": 81,
     "metadata": {},
     "output_type": "execute_result"
    },
    {
     "data": {
      "image/png": "[encoded data removed]",
      "text/plain": [
       "<Figure size 432x288 with 1 Axes>"
      ]
     },
     "metadata": {
      "needs_background": "light"
     },
     "output_type": "display_data"
    }
   ],
   "source": [
    "#Boxplot\n",
    "\n",
    "dataframe = pd.DataFrame(np.random.rand(10, 5), columns=['A', 'B', 'C', 'D', 'E'])\n",
    "dataframe.plot.box()"
   ]
  },
  {
   "cell_type": "code",
   "execution_count": 82,
   "id": "eecfdf47",
   "metadata": {},
   "outputs": [
    {
     "data": {
      "text/plain": [
       "<AxesSubplot:>"
      ]
     },
     "execution_count": 82,
     "metadata": {},
     "output_type": "execute_result"
    },
    {
     "data": {
      "image/png": "[encoded data removed]",
      "text/plain": [
       "<Figure size 432x288 with 1 Axes>"
      ]
     },
     "metadata": {
      "needs_background": "light"
     },
     "output_type": "display_data"
    }
   ],
   "source": [
    "#Area plot\n",
    "\n",
    "dataframe = pd.DataFrame(np.random.rand(10, 4), columns=['a', 'b', 'c', 'd'])\n",
    "dataframe.plot.area()"
   ]
  },
  {
   "cell_type": "code",
   "execution_count": 83,
   "id": "ac547648",
   "metadata": {},
   "outputs": [
    {
     "data": {
      "text/plain": [
       "<AxesSubplot:xlabel='a', ylabel='b'>"
      ]
     },
     "execution_count": 83,
     "metadata": {},
     "output_type": "execute_result"
    },
    {
     "data": {
      "image/png": "[encoded data removed]",
      "text/plain": [
       "<Figure size 432x288 with 1 Axes>"
      ]
     },
     "metadata": {
      "needs_background": "light"
     },
     "output_type": "display_data"
    }
   ],
   "source": [
    "#Scatter plot \n",
    "\n",
    "dataframe = pd.DataFrame(np.random.rand(50, 4), columns=['a', 'b', 'c', 'd'])\n",
    "dataframe.plot.scatter(x='a', y='b')"
   ]
  },
  {
   "cell_type": "code",
   "execution_count": 84,
   "id": "bf68d627",
   "metadata": {},
   "outputs": [
    {
     "data": {
      "text/plain": [
       "array([<AxesSubplot:ylabel='x'>], dtype=object)"
      ]
     },
     "execution_count": 84,
     "metadata": {},
     "output_type": "execute_result"
    },
    {
     "data": {
      "image/png": "[encoded data removed]",
      "text/plain": [
       "<Figure size 432x288 with 1 Axes>"
      ]
     },
     "metadata": {},
     "output_type": "display_data"
    }
   ],
   "source": [
    "#Pie chart\n",
    "\n",
    "dataframe = pd.DataFrame(3 * np.random.rand(4), index=['a', 'b', 'c', 'd'], columns=['x'])\n",
    "dataframe.plot.pie(subplots=True)"
   ]
  },
  {
   "cell_type": "code",
   "execution_count": null,
   "id": "0eb8118d",
   "metadata": {},
   "outputs": [],
   "source": []
  }
 ],
 "metadata": {
  "kernelspec": {
   "display_name": "Python 3 (ipykernel)",
   "language": "python",
   "name": "python3"
  },
  "language_info": {
   "codemirror_mode": {
    "name": "ipython",
    "version": 3
   },
   "file_extension": ".py",
   "mimetype": "text/x-python",
   "name": "python",
   "nbconvert_exporter": "python",
   "pygments_lexer": "ipython3",
   "version": "3.12.2"
  }
 },
 "nbformat": 4,
 "nbformat_minor": 5
}
